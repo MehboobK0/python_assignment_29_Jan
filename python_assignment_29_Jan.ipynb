{
 "cells": [
  {
   "cell_type": "markdown",
   "id": "213c667e",
   "metadata": {},
   "source": [
    "Who developed Python Programming Language?\n",
    "\n",
    "Python was developed by Guido van Rossum and first released in 1991.\n",
    "Which type of Programming does Python support?\n",
    "\n",
    "Python supports multiple programming paradigms, including object-oriented, imperative, functional, and procedural programming.\n",
    "Is Python case sensitive when dealing with identifiers?\n",
    "\n",
    "Yes, Python is case-sensitive when dealing with identifiers. For example, variables var, Var, and VAR are treated as different identifiers.\n",
    "What is the correct extension of the Python file?\n",
    "\n",
    "The correct extension of a Python file is .py.\n",
    "Is Python code compiled or interpreted?\n",
    "\n",
    "Python code is both compiled and interpreted. It is first compiled into bytecode (.pyc) by the Python interpreter, and then the bytecode is executed by the Python Virtual Machine (PVM).\n",
    "Name a few blocks of code used to define in Python language?\n",
    "\n",
    "In Python, code blocks are defined using indentation. Common blocks include if statements, loops (for, while), function definitions, and class definitions.\n",
    "State a character used to give single-line comments in Python?\n",
    "\n",
    "The # character is used to denote single-line comments in Python.\n",
    "Mention functions which can help us to find the version of python that we are currently working on?\n",
    "\n",
    "The sys.version and platform.python_version() functions can be used to find the version of Python.\n",
    "Python supports the creation of anonymous functions at runtime, using a construct called\n",
    "\n",
    "Python supports the creation of anonymous functions at runtime using a construct called lambda functions.\n",
    "What does pip stand for python?\n",
    "\n",
    "pip stands for \"Pip Installs Packages\". It is the package installer for Python.\n",
    "Mention a few built-in functions in python?\n",
    "\n",
    "Some built-in functions in Python include print(), len(), input(), range(), sum(), max(), min(), abs(), round(), etc.\n",
    "What is the maximum possible length of an identifier in Python?\n",
    "\n",
    "The maximum possible length of an identifier in Python is implementation-dependent, but it is typically 255 characters.\n",
    "What are the benefits of using Python?\n",
    "\n",
    "Some benefits of using Python include its simplicity and readability, extensive standard library, cross-platform compatibility, and strong community support.\n",
    "How is memory managed in Python?\n",
    "\n",
    "Memory management in Python is handled by the Python memory manager. It automatically manages the allocation and deallocation of memory, including garbage collection.\n",
    "How to install Python on Windows and set path variables?\n",
    "\n",
    "To install Python on Windows, download the installer from the official Python website and run it. During installation, make sure to check the option to add Python to the system PATH. Alternatively, you can manually add Python to the PATH environment variable after installation.\n",
    "Is indentation required in python?\n",
    "\n",
    "Yes, indentation is required in Python to denote code blocks. It is used to determine the grouping of statements. Incorrect indentation can lead to syntax errors or alter the program."
   ]
  },
  {
   "cell_type": "code",
   "execution_count": null,
   "id": "f9fc8692",
   "metadata": {},
   "outputs": [],
   "source": []
  }
 ],
 "metadata": {
  "kernelspec": {
   "display_name": "Python 3 (ipykernel)",
   "language": "python",
   "name": "python3"
  },
  "language_info": {
   "codemirror_mode": {
    "name": "ipython",
    "version": 3
   },
   "file_extension": ".py",
   "mimetype": "text/x-python",
   "name": "python",
   "nbconvert_exporter": "python",
   "pygments_lexer": "ipython3",
   "version": "3.9.12"
  }
 },
 "nbformat": 4,
 "nbformat_minor": 5
}
